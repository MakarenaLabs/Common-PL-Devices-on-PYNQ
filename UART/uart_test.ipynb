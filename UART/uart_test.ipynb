{
 "cells": [
  {
   "cell_type": "code",
   "execution_count": 16,
   "metadata": {},
   "outputs": [],
   "source": [
    "from pynq import Overlay\n",
    "from pynq import MMIO\n",
    "import time\n",
    "from time import sleep, time"
   ]
  },
  {
   "cell_type": "code",
   "execution_count": 4,
   "metadata": {},
   "outputs": [],
   "source": [
    "ol = Overlay(\"pynqz2_uart.bit\")"
   ]
  },
  {
   "cell_type": "code",
   "execution_count": 20,
   "metadata": {},
   "outputs": [],
   "source": [
    "address = 0x42C00000\n",
    "\n",
    "# HARDWARE CONSTANTS\n",
    "RX_FIFO = 0x00\n",
    "TX_FIFO = 0x04\n",
    "\n",
    "# Status Reg\n",
    "STAT_REG = 0x08\n",
    "RX_VALID = 0\n",
    "RX_FULL = 1\n",
    "TX_EMPTY = 2\n",
    "TX_FULL = 3\n",
    "IS_INTR = 4\n",
    "OVERRUN_ERR = 5\n",
    "FRAME_ERR = 6\n",
    "PARITY_ERR = 7\n",
    "\n",
    "# Ctrl Reg\n",
    "CTRL_REG = 0x0C\n",
    "RST_TX = 0\n",
    "RST_RX = 1\n",
    "INTR_EN = 4\n",
    "\n",
    "# Offset Settings\n",
    "XGPIO_DATA_OFFSET = 0x0\n",
    "XGPIO_TRI_OFFSET = 0x4\n",
    "\n",
    "class UartAXI:\n",
    "    def __init__(self, address):\n",
    "        # Setup axi core\n",
    "        self.uart = MMIO(address, 0x10000, debug=False)\n",
    "        self.address = address\n",
    "\n",
    "    def setupCtrlReg(self):\n",
    "        # Reset FIFOs, disable interrupts\n",
    "        self.uart.write(CTRL_REG, 1 << RST_TX | 1 << RST_RX)\n",
    "        sleep(1)\n",
    "        self.uart.write(CTRL_REG, 0)\n",
    "        sleep(1)\n",
    "\n",
    "    def read(self, count, timeout=10):\n",
    "        # status = currentStatus(uart) bad idea\n",
    "        buf = \"\"\n",
    "        stop_time = time() + timeout\n",
    "        for i in range(count):\n",
    "            # Wait till RX fifo has valid data, stop waiting if timeoutpasses\n",
    "            while (not (self.uart.read(STAT_REG) & 1 << RX_VALID)) and (time() < stop_time):\n",
    "                pass\n",
    "            if time() >= stop_time:\n",
    "                break\n",
    "            buf += chr(self.uart.read(RX_FIFO))\n",
    "        return buf\n",
    "\n",
    "    def write(self, buf, timeout=10):\n",
    "        # Write bytes via UART\n",
    "        stop_time = time() + timeout\n",
    "        wr_count = 0\n",
    "        for i in buf:\n",
    "            # Wait while TX FIFO is Full, stop waiting if timeout passes\n",
    "            while (self.uart.read(STAT_REG) & 1 << TX_FULL) and (time() < stop_time):\n",
    "                pass\n",
    "            # Check timeout\n",
    "            if time() > stop_time:\n",
    "                break\n",
    "            self.uart.write(TX_FIFO, ord(i))\n",
    "            wr_count += 1\n",
    "        return wr_count\n"
   ]
  },
  {
   "cell_type": "code",
   "execution_count": 21,
   "metadata": {},
   "outputs": [],
   "source": [
    "uart = UartAXI(address)\n",
    "# Setup AXI UART register\n",
    "uart.setupCtrlReg()"
   ]
  },
  {
   "cell_type": "code",
   "execution_count": 79,
   "metadata": {},
   "outputs": [
    {
     "data": {
      "text/plain": [
       "1"
      ]
     },
     "execution_count": 79,
     "metadata": {},
     "output_type": "execute_result"
    }
   ],
   "source": [
    "uart.write('1')"
   ]
  },
  {
   "cell_type": "code",
   "execution_count": 80,
   "metadata": {},
   "outputs": [
    {
     "data": {
      "text/plain": [
       "'SENT'"
      ]
     },
     "execution_count": 80,
     "metadata": {},
     "output_type": "execute_result"
    }
   ],
   "source": [
    "uart.read(4)"
   ]
  }
 ],
 "metadata": {
  "kernelspec": {
   "display_name": "Python 3",
   "language": "python",
   "name": "python3"
  },
  "language_info": {
   "codemirror_mode": {
    "name": "ipython",
    "version": 3
   },
   "file_extension": ".py",
   "mimetype": "text/x-python",
   "name": "python",
   "nbconvert_exporter": "python",
   "pygments_lexer": "ipython3",
   "version": "3.6.5"
  }
 },
 "nbformat": 4,
 "nbformat_minor": 2
}
