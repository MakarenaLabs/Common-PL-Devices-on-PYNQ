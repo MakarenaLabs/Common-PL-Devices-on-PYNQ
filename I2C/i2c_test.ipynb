{
 "cells": [
  {
   "cell_type": "code",
   "execution_count": 105,
   "metadata": {},
   "outputs": [],
   "source": [
    "from pynq import Overlay\n",
    "from pynq import MMIO\n",
    "import time\n",
    "from time import sleep, time\n",
    "\n",
    "import pynq.lib as lib"
   ]
  },
  {
   "cell_type": "code",
   "execution_count": 106,
   "metadata": {},
   "outputs": [],
   "source": [
    "class IIC:\n",
    "    \n",
    "    overlay = None\n",
    "    i2c = None\n",
    "    def init_hw(self, filepath):\n",
    "        self.overlay = Overlay(filepath)\n",
    "        self.overlay.download()\n",
    "\n",
    "    def __init__(self, bitstream_file):\n",
    "        # Initializing bitstream\n",
    "        self.init_hw(bitstream_file)\n",
    "        self.i2c = lib.AxiIIC(self.overlay.ip_dict['axi_iic_0'])\n"
   ]
  },
  {
   "cell_type": "code",
   "execution_count": 107,
   "metadata": {},
   "outputs": [],
   "source": [
    "i2c = IIC(\"pynqz2_i2c.bit\").i2c"
   ]
  },
  {
   "cell_type": "code",
   "execution_count": 112,
   "metadata": {},
   "outputs": [
    {
     "data": {
      "text/plain": [
       "3"
      ]
     },
     "execution_count": 112,
     "metadata": {},
     "output_type": "execute_result"
    }
   ],
   "source": [
    "buf = [0x05, 1, 0]\n",
    "i2c.send(buf[0], buf, len(buf), 0)"
   ]
  },
  {
   "cell_type": "code",
   "execution_count": 90,
   "metadata": {},
   "outputs": [
    {
     "data": {
      "text/plain": [
       "10"
      ]
     },
     "execution_count": 90,
     "metadata": {},
     "output_type": "execute_result"
    }
   ],
   "source": [
    "test = []\n",
    "i2c.receive(buf[0], test, 10, 0)"
   ]
  },
  {
   "cell_type": "code",
   "execution_count": null,
   "metadata": {},
   "outputs": [],
   "source": []
  }
 ],
 "metadata": {
  "kernelspec": {
   "display_name": "Python 3",
   "language": "python",
   "name": "python3"
  },
  "language_info": {
   "codemirror_mode": {
    "name": "ipython",
    "version": 3
   },
   "file_extension": ".py",
   "mimetype": "text/x-python",
   "name": "python",
   "nbconvert_exporter": "python",
   "pygments_lexer": "ipython3",
   "version": "3.6.5"
  }
 },
 "nbformat": 4,
 "nbformat_minor": 2
}
